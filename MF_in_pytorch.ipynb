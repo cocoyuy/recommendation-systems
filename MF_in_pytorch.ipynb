{
  "cells": [
    {
      "cell_type": "markdown",
      "metadata": {
        "id": "view-in-github",
        "colab_type": "text"
      },
      "source": [
        "<a href=\"https://colab.research.google.com/github/cocoyuy/recommendation-systems/blob/main/MF_in_pytorch.ipynb\" target=\"_parent\"><img src=\"https://colab.research.google.com/assets/colab-badge.svg\" alt=\"Open In Colab\"/></a>"
      ]
    },
    {
      "cell_type": "markdown",
      "metadata": {
        "id": "tdc4Q572YwQY"
      },
      "source": [
        "## Imports the MovieLens-100K dataset"
      ]
    },
    {
      "cell_type": "code",
      "source": [
        "# download ml-100k dataset from the official website:\n",
        "! wget https://files.grouplens.org/datasets/movielens/ml-100k.zip; unzip ml-100k.zip"
      ],
      "metadata": {
        "id": "UrmImj8lZ3qb",
        "colab": {
          "base_uri": "https://localhost:8080/"
        },
        "outputId": "8517791e-bc00-40e3-adc0-11e2b887c2ee"
      },
      "execution_count": null,
      "outputs": [
        {
          "output_type": "stream",
          "name": "stdout",
          "text": [
            "--2024-02-22 05:25:15--  https://files.grouplens.org/datasets/movielens/ml-100k.zip\n",
            "Resolving files.grouplens.org (files.grouplens.org)... 128.101.65.152\n",
            "Connecting to files.grouplens.org (files.grouplens.org)|128.101.65.152|:443... connected.\n",
            "HTTP request sent, awaiting response... 200 OK\n",
            "Length: 4924029 (4.7M) [application/zip]\n",
            "Saving to: ‘ml-100k.zip’\n",
            "\n",
            "ml-100k.zip         100%[===================>]   4.70M  29.0MB/s    in 0.2s    \n",
            "\n",
            "2024-02-22 05:25:15 (29.0 MB/s) - ‘ml-100k.zip’ saved [4924029/4924029]\n",
            "\n",
            "Archive:  ml-100k.zip\n",
            "   creating: ml-100k/\n",
            "  inflating: ml-100k/allbut.pl       \n",
            "  inflating: ml-100k/mku.sh          \n",
            "  inflating: ml-100k/README          \n",
            "  inflating: ml-100k/u.data          \n",
            "  inflating: ml-100k/u.genre         \n",
            "  inflating: ml-100k/u.info          \n",
            "  inflating: ml-100k/u.item          \n",
            "  inflating: ml-100k/u.occupation    \n",
            "  inflating: ml-100k/u.user          \n",
            "  inflating: ml-100k/u1.base         \n",
            "  inflating: ml-100k/u1.test         \n",
            "  inflating: ml-100k/u2.base         \n",
            "  inflating: ml-100k/u2.test         \n",
            "  inflating: ml-100k/u3.base         \n",
            "  inflating: ml-100k/u3.test         \n",
            "  inflating: ml-100k/u4.base         \n",
            "  inflating: ml-100k/u4.test         \n",
            "  inflating: ml-100k/u5.base         \n",
            "  inflating: ml-100k/u5.test         \n",
            "  inflating: ml-100k/ua.base         \n",
            "  inflating: ml-100k/ua.test         \n",
            "  inflating: ml-100k/ub.base         \n",
            "  inflating: ml-100k/ub.test         \n"
          ]
        }
      ]
    },
    {
      "cell_type": "code",
      "execution_count": null,
      "metadata": {
        "id": "s1sikG8KYwQY"
      },
      "outputs": [],
      "source": [
        "%matplotlib inline\n",
        "\n",
        "import pandas as pd\n",
        "import numpy as np\n",
        "import matplotlib.pyplot as plt\n",
        "import random\n",
        "from tqdm import tqdm_notebook\n",
        "from copy import deepcopy\n",
        "\n",
        "import torch\n",
        "import torch.nn as nn\n",
        "from torch.utils.data import DataLoader, Dataset\n",
        "\n",
        "device = torch.device(\"cuda:0\" if torch.cuda.is_available() else \"cpu\")"
      ]
    },
    {
      "cell_type": "code",
      "source": [
        "device"
      ],
      "metadata": {
        "colab": {
          "base_uri": "https://localhost:8080/"
        },
        "id": "KAKKfxFvlKOH",
        "outputId": "6f207d6a-6cbb-49ac-ddc2-5dc03037424e"
      },
      "execution_count": null,
      "outputs": [
        {
          "output_type": "execute_result",
          "data": {
            "text/plain": [
              "device(type='cuda', index=0)"
            ]
          },
          "metadata": {},
          "execution_count": 3
        }
      ]
    },
    {
      "cell_type": "markdown",
      "metadata": {
        "id": "yKDZJuFKYwQZ"
      },
      "source": [
        "## Data Processing"
      ]
    },
    {
      "cell_type": "markdown",
      "metadata": {
        "id": "dgOLzjE4YwQZ"
      },
      "source": [
        "There are several pre-defined training and validation set from the `ml-100k` dataset. We will use the split where each user has exactly 10 ratings in the test set(`ua.base` and `ua.test`). The training set consists of 90,570 user-item-rating tuples and the validation set consists of 9,430 such tuples."
      ]
    },
    {
      "cell_type": "code",
      "execution_count": null,
      "metadata": {
        "id": "Igca_yq3YwQZ"
      },
      "outputs": [],
      "source": [
        "user_cnts = 943 #total number of users\n",
        "item_cnts = 1682 #total number of items"
      ]
    },
    {
      "cell_type": "code",
      "execution_count": null,
      "metadata": {
        "colab": {
          "base_uri": "https://localhost:8080/"
        },
        "id": "Pxm-Q7ULYwQZ",
        "outputId": "1435adc0-a778-4269-eec2-7a4991826d32"
      },
      "outputs": [
        {
          "output_type": "execute_result",
          "data": {
            "text/plain": [
              "((90570, 4), (9430, 4))"
            ]
          },
          "metadata": {},
          "execution_count": 5
        }
      ],
      "source": [
        "# we fisrt tranform the user and item index to start from 0.\n",
        "train_df = pd.read_csv(\"ml-100k/ua.base\", sep='\\t', header=None)\n",
        "train_df.columns = ['user_id','item_id','rating','ts']\n",
        "train_df['user_id'] = train_df['user_id'] -1\n",
        "train_df['item_id'] = train_df['item_id'] -1\n",
        "valid_df = pd.read_csv(\"ml-100k/ua.test\", sep='\\t', header=None)\n",
        "valid_df.columns = ['user_id','item_id','rating','ts']\n",
        "valid_df['user_id'] = valid_df['user_id'] -1\n",
        "valid_df['item_id'] = valid_df['item_id'] -1\n",
        "train_df.shape, valid_df.shape"
      ]
    },
    {
      "cell_type": "code",
      "execution_count": null,
      "metadata": {
        "colab": {
          "base_uri": "https://localhost:8080/"
        },
        "id": "N2MxLQfqYwQa",
        "outputId": "8ef80a3a-7308-463f-8d1e-31f9ea6c532f"
      },
      "outputs": [
        {
          "output_type": "execute_result",
          "data": {
            "text/plain": [
              "(943, 943)"
            ]
          },
          "metadata": {},
          "execution_count": 6
        }
      ],
      "source": [
        "#check number of unique users in both training and test set\n",
        "train_users = train_df.user_id.unique()\n",
        "valid_users = valid_df.user_id.unique()\n",
        "len(train_users),len(valid_users)"
      ]
    },
    {
      "cell_type": "code",
      "execution_count": null,
      "metadata": {
        "colab": {
          "base_uri": "https://localhost:8080/"
        },
        "id": "Fn24Qt38YwQa",
        "outputId": "f46e79b9-b667-4e47-ef50-e02cf9b61db5"
      },
      "outputs": [
        {
          "output_type": "execute_result",
          "data": {
            "text/plain": [
              "(1680, 1129)"
            ]
          },
          "metadata": {},
          "execution_count": 7
        }
      ],
      "source": [
        "train_items = train_df.item_id.unique()\n",
        "valid_items = valid_df.item_id.unique()\n",
        "len(train_items),len(valid_items)"
      ]
    },
    {
      "cell_type": "code",
      "execution_count": null,
      "metadata": {
        "colab": {
          "base_uri": "https://localhost:8080/"
        },
        "id": "MJIrMtcJYwQa",
        "outputId": "737bd958-ebfb-4faf-9cd4-d586d88613f9"
      },
      "outputs": [
        {
          "output_type": "execute_result",
          "data": {
            "text/plain": [
              "1127"
            ]
          },
          "metadata": {},
          "execution_count": 8
        }
      ],
      "source": [
        "i = 0\n",
        "for u in valid_items:\n",
        "    if u in train_items: i+=1\n",
        "i"
      ]
    },
    {
      "cell_type": "markdown",
      "metadata": {
        "id": "HOeJZq92YwQa"
      },
      "source": [
        "## Dataset"
      ]
    },
    {
      "cell_type": "code",
      "execution_count": null,
      "metadata": {
        "id": "yLPHU7lzYwQb"
      },
      "outputs": [],
      "source": [
        "class MovieLensDataset(Dataset):\n",
        "    def __init__(self, df, user_col=0, item_col=1, rating_col=2):\n",
        "        self.df = df\n",
        "        self.user_tensor = torch.tensor(self.df.iloc[:,user_col], dtype=torch.long, device = device)\n",
        "        self.item_tensor = torch.tensor(self.df.iloc[:,item_col], dtype=torch.long, device = device)\n",
        "        self.target_tensor = torch.tensor(self.df.iloc[:,rating_col], dtype=torch.float32, device = device)\n",
        "\n",
        "    def __getitem__(self, index):\n",
        "        return(self.user_tensor[index], self.item_tensor[index], self.target_tensor[index])\n",
        "\n",
        "    def __len__(self):\n",
        "        return(self.target_tensor.shape[0])"
      ]
    },
    {
      "cell_type": "code",
      "execution_count": null,
      "metadata": {
        "id": "2mh0p50BYwQb"
      },
      "outputs": [],
      "source": [
        "batch_size = 1000\n",
        "train_ds = MovieLensDataset(train_df)\n",
        "train_dl = DataLoader(train_ds, batch_size=batch_size, shuffle=True)\n",
        "valid_ds = MovieLensDataset(valid_df)\n",
        "valid_dl = DataLoader(valid_ds, batch_size=batch_size, shuffle=True)"
      ]
    },
    {
      "cell_type": "code",
      "execution_count": null,
      "metadata": {
        "colab": {
          "base_uri": "https://localhost:8080/"
        },
        "id": "_BSEyYvdYwQb",
        "outputId": "1170b258-41c9-41c4-caab-1a4462963926"
      },
      "outputs": [
        {
          "output_type": "execute_result",
          "data": {
            "text/plain": [
              "(90570, 9430, 91, 10)"
            ]
          },
          "metadata": {},
          "execution_count": 11
        }
      ],
      "source": [
        "len(train_ds),len(valid_ds),len(train_dl),len(valid_dl)"
      ]
    },
    {
      "cell_type": "code",
      "execution_count": null,
      "metadata": {
        "colab": {
          "base_uri": "https://localhost:8080/"
        },
        "id": "WoK-G7T8YwQb",
        "outputId": "09bf5c4b-ca29-4ab0-b35c-32b938c2408f"
      },
      "outputs": [
        {
          "output_type": "execute_result",
          "data": {
            "text/plain": [
              "((tensor([0, 0, 0, 0, 0], device='cuda:0'),\n",
              "  tensor([0, 1, 2, 3, 4], device='cuda:0'),\n",
              "  tensor([5., 3., 4., 3., 3.], device='cuda:0')),\n",
              " (tensor([0, 0, 0, 0, 0, 0, 0, 0, 0, 0, 1, 1, 1, 1, 1, 1, 1, 1, 1, 1],\n",
              "         device='cuda:0'),\n",
              "  tensor([ 19,  32,  60, 116, 154, 159, 170, 188, 201, 264,  12,  49, 250, 279,\n",
              "          280, 289, 291, 296, 311, 313], device='cuda:0'),\n",
              "  tensor([4., 4., 4., 3., 2., 4., 5., 3., 5., 4., 4., 5., 5., 3., 3., 3., 4., 4.,\n",
              "          3., 1.], device='cuda:0')))"
            ]
          },
          "metadata": {},
          "execution_count": 12
        }
      ],
      "source": [
        "train_ds[:5], valid_ds[:20]"
      ]
    },
    {
      "cell_type": "code",
      "execution_count": null,
      "metadata": {
        "id": "zsCV28FUYwQb",
        "colab": {
          "base_uri": "https://localhost:8080/"
        },
        "outputId": "5ccc17b9-3343-494d-b58d-9ec4d29d4105"
      },
      "outputs": [
        {
          "output_type": "execute_result",
          "data": {
            "text/plain": [
              "[tensor([109,  12, 193, 518, 386, 290, 154, 176, 836, 304, 830, 398,  89, 704,\n",
              "          81, 503, 907, 310,  12,  93, 302, 517, 534, 325, 853, 486, 906, 895,\n",
              "         532, 703, 523, 567, 416, 118, 591, 842, 454, 893, 600, 118, 888, 315,\n",
              "         717,  98, 287,  90, 893, 298, 285, 157, 388, 902, 150,  58, 357, 633,\n",
              "         685, 692, 404, 172, 268, 262, 622, 878, 377, 879,  55, 624, 922,  58,\n",
              "          12, 869, 762, 450, 270, 434, 300, 639, 449, 456, 398, 300,  53, 766,\n",
              "         939, 488, 795, 652, 668, 866, 640, 307, 693, 845,  71, 292, 806, 220,\n",
              "         154, 662, 153, 200,  58, 406, 473, 388,  66,  61, 302, 491,  55, 255,\n",
              "         298, 708, 339, 722,  12, 942, 842, 942,  71, 157, 641,  84, 492, 275,\n",
              "         291, 362, 434, 436,  58, 628, 880, 370, 853, 907, 847, 628, 182, 321,\n",
              "         193, 173, 528, 591, 263, 406, 300, 451, 317, 797, 757, 649, 560, 598,\n",
              "         868, 755, 867, 560, 404, 456, 173, 763, 248, 429,   5, 726, 220, 543,\n",
              "           0, 330, 260, 926, 449, 692, 642, 266, 233, 722, 863, 275, 935, 197,\n",
              "          57, 535, 412, 183, 444, 319, 451, 477, 532,  58,  89, 478, 756, 404,\n",
              "         581, 302, 909, 369, 541,  98, 255, 765, 296, 331,  12, 156, 114, 366,\n",
              "         772, 591, 619, 355, 843, 692, 853,  91, 275, 264, 654, 863, 449,  61,\n",
              "         908, 109,  17, 112, 641, 698,  59,  61, 441, 846, 285, 339, 608, 781,\n",
              "         863, 422, 715, 942, 290, 317, 185, 115, 748, 129, 346, 942, 896, 278,\n",
              "         565, 534, 229, 473, 394, 842, 514, 101, 644, 494,  86, 926, 930, 324,\n",
              "         503, 664, 223, 378, 266, 302, 869, 219, 449, 279, 180, 331, 104, 108,\n",
              "         144, 742, 177, 464, 471,  91, 779, 126, 449, 930, 378, 278, 649, 386,\n",
              "         540,  12, 304,  59, 473, 567, 576, 444, 789, 422, 896, 726,   5, 842,\n",
              "         862, 755, 928, 488,  10, 675, 415, 594, 672, 829, 772,  48, 135, 416,\n",
              "         903, 386, 623,  51,   9, 715, 453, 641, 398, 600,  30, 654, 392, 932,\n",
              "         772, 285, 325, 182, 654,   4, 223, 313, 837, 261, 703, 310, 199, 390,\n",
              "         453,  42, 140, 669, 454, 221, 400, 451, 863, 124, 312, 869, 311, 653,\n",
              "          68, 112, 138, 733, 487, 237, 328, 505, 393, 233, 797, 654, 452, 141,\n",
              "         473, 372, 432,  17,   6, 670, 649, 404, 652, 192, 115, 832, 860,  93,\n",
              "         631, 893, 566, 933, 333,  49, 304,  19, 360, 534,  71,  50, 278, 761,\n",
              "         702, 771, 274, 649, 166, 863, 315,  53, 449, 268, 877, 787, 210, 333,\n",
              "         483, 675, 915, 804, 586, 918,  91,  93, 882, 773, 182,  93, 682,  98,\n",
              "         585, 765, 641, 326, 879, 235, 456, 150, 931, 772, 404, 446, 772,  48,\n",
              "         157, 879, 536, 902, 224, 651, 329, 931, 291, 333, 327, 906, 880, 589,\n",
              "         542, 150, 333, 341, 843, 617, 621, 177, 828, 714, 726, 449, 652,  12,\n",
              "         931, 124, 550, 245, 587, 795, 720, 935, 392, 647, 879,  12, 505, 540,\n",
              "         359, 544, 306, 932, 566, 490, 832, 298, 654, 550, 292, 663, 609, 233,\n",
              "         893, 143, 400, 270, 565, 194, 536, 644, 598, 591, 424, 400, 715, 473,\n",
              "         449, 513, 893, 664, 302, 911, 781, 489, 804,  68, 523, 177,   0, 531,\n",
              "         428, 454,  25, 229, 535, 931, 243,  13,  20, 129, 441, 267, 880, 846,\n",
              "         845, 642, 762, 462,  63, 347, 891, 231, 609, 706,  15, 249, 456, 148,\n",
              "          12, 926, 550, 243,  71, 542, 310, 540, 539,  68, 745, 845, 850, 915,\n",
              "          93, 226, 302, 404, 642, 881, 863, 467, 672, 449, 428, 446, 845, 327,\n",
              "         213, 757, 373, 503,  91, 366, 664, 568, 326,  65, 654,  12,   6, 895,\n",
              "          71, 633, 591, 199,  51, 400,  58, 654, 390, 886, 159, 542, 816, 644,\n",
              "           0, 775,  58, 725, 200, 898, 532, 464, 554, 195, 795, 825, 180, 177,\n",
              "         392, 199, 415, 906, 781, 909, 473, 391, 388, 292, 888, 333, 832, 893,\n",
              "         416, 760, 654, 542, 312, 377, 409, 422, 478, 275, 599, 275, 899,  59,\n",
              "         166, 463, 449,  61,  99,  93,  58,   0, 496, 115, 873, 229,  46, 233,\n",
              "         638, 344, 345, 144, 266, 452, 342, 853, 734, 278, 926, 262, 584, 344,\n",
              "         574,  59, 108, 333, 737, 116, 740, 434, 773, 652, 591, 311,  84, 327,\n",
              "         649, 415, 317, 243, 910, 641, 536,  86, 832, 150, 121, 386, 322, 834,\n",
              "         267, 150, 268, 922,  62, 129, 906, 689, 114, 877, 665,  56, 116,  76,\n",
              "         620, 177, 177, 467, 343, 889, 108,  72, 701, 478, 822, 681, 869, 317,\n",
              "         379, 304, 458,  24,  84, 344, 933, 329, 496, 882, 689, 802, 428, 773,\n",
              "         330, 523, 315, 380, 748, 432, 199, 834, 747,  11, 291, 326, 129, 752,\n",
              "          73, 867, 867, 400, 804, 888, 180, 450, 200, 882, 319, 608,   9, 760,\n",
              "         275, 446, 632, 565, 935, 108, 144,  81,  72, 494, 396, 590, 560, 298,\n",
              "         342, 754,   1, 150, 297, 588, 860, 633, 512, 311, 446, 757, 534, 105,\n",
              "         488, 343,  17, 338, 261, 502, 108,  76, 180,  94, 179, 150, 802, 925,\n",
              "         737, 264, 357,  22, 711, 552, 891, 842, 536, 939, 372, 845, 692, 255,\n",
              "         660, 200, 818, 846, 829, 434, 439, 242, 103, 822, 516, 584, 536, 377,\n",
              "         216, 923, 129, 147, 267, 791, 710, 667, 235, 629, 781, 420,  15, 503,\n",
              "         406, 431, 326, 335, 765, 408, 108, 795, 496, 691, 273, 392, 341, 483,\n",
              "         723, 891, 383,  91, 857, 433, 879,  12, 781, 765, 654, 620, 654, 839,\n",
              "         151, 560, 362, 814,  69, 192, 253, 172, 349, 885, 293, 586, 397, 449,\n",
              "         614,  86, 118, 806, 325, 881, 565, 711,  88, 921, 143, 108, 428, 543,\n",
              "         909, 534, 247, 662, 109, 238,   9, 378, 333, 711, 889, 921, 344, 559,\n",
              "         155, 591, 716, 449,  12, 665,  89, 261, 268, 624, 500, 185,  89, 536,\n",
              "         756, 563, 206,  59, 445, 763, 292,  98, 213,  48, 452, 654, 173, 610,\n",
              "          81, 668, 424,  71, 543, 895, 715,  17, 335,  65, 560, 307, 623, 693,\n",
              "         494, 659, 150, 300, 646, 547,   0, 261, 896, 337, 621, 765, 912, 888,\n",
              "         386, 748, 832, 326, 842,  27], device='cuda:0'),\n",
              " tensor([ 790,  397,  660,  327,  624,  561,  287,  333,  716,  191,   82,  178,\n",
              "           32,  754,  168,   97,  356,  430,  392,  120,  110,  475,  195,  199,\n",
              "          190,  746,  273,  714,  132,  133,  264,   29,  401,  683,  331,   61,\n",
              "           16,  311,   98, 1085,  602,  191,  830,  507,  899,  478, 1114,   93,\n",
              "          274,  543,  173,  522,  961,  780, 1158,  105,  434,  565,  139,  326,\n",
              "         1266,  214,  182,  291,  125, 1243,   28,  199,  454,  709,  302, 1043,\n",
              "          132,  990,  519,  447,  464,  579,  442,  201, 1216,   63,  120,  176,\n",
              "          149,  342,  422,  808,  322,  651,   63,  645,  156,  287,  169,  654,\n",
              "          380,  297,  291,  315,  522, 1168,  824, 1187,  835,   80,  122, 1011,\n",
              "         1266,  192,  440, 1230, 1035,  737,  583,    8,  166,   41,  173, 1187,\n",
              "           81,  366,   96,  210,  461,  596,  287,  133,  918,  696,  179,   21,\n",
              "          131,  503,  492,  199,   87,  692, 1214,  655,  990,  422,  332,  150,\n",
              "          285,  190,  181,  236,  126,  825, 1038,   67,  512,  287,  814,  175,\n",
              "          435,  810,  780,  473,  576,  431,  301,  747,  210,  691,  823,  747,\n",
              "           46,  181,  303,  570, 1207,  401,  678,  596,  162,  163, 1111,  562,\n",
              "          826,  237,  740,  754,   99,  707,  247,  251,  419,   31,   87,  368,\n",
              "          698,  156,   37,   54,  409,  339,  750,  630,   46,  331,  117, 1049,\n",
              "          528,   30,  528,  116,  921,   55,  217, 1096,  673,  287,  172,  507,\n",
              "          301, 1032,  741,  287, 1097,  379,  774,  229,  706,  894,  734,  323,\n",
              "           63,  327,  478,  173,  737,    6, 1104,  479,  889, 1282, 1424,  976,\n",
              "          496,  150,  974,  865,  332,  478,   76,  292,  180,  184,  182,  624,\n",
              "          134,  628,  446,  489,   99,  527,  309,  271,  954,  207,  490,  476,\n",
              "          315,  234,  167,  418,  698,  176,  809,   37,  478,  339, 1036,  209,\n",
              "          471,  982,  750,  714,  133,  407,  155,  274, 1028,  424,  422,  221,\n",
              "          708,  844,    3,  485, 1125,  640,  253,  332,  407,   81,  519, 1285,\n",
              "         1032,    6,   89,  695,   32,  238,  535,  379,  989,  402,  430,  242,\n",
              "           24,  479,  224,  303,  897,  226,  363,   94,  514,  662,  279,  197,\n",
              "          269,  472,  143,  632,   72,  764,   97,  415,  267,   18,  839,  384,\n",
              "          454,  366,  484,   93,    5,  175,  707,   40,  749,  442,  605,   49,\n",
              "          500,   22,  704,  683,  677,  482,  216,  430,  355, 1426,  442,  237,\n",
              "         1065,  271,  505,  245,  236,  298,   99,  120,  215,  297,  249,  610,\n",
              "          293,  207,  754,  317,  741,   90,  418,  647,  285,    3,  206,  158,\n",
              "          199,  667,  175,   78,  747,  153,  380,  153,  431,  297,   95,  461,\n",
              "          316, 1007,  189,  596,  793,  613,  843,   49,  392,  708,  322,  327,\n",
              "           49,  203,  136,  746,   68,  275,  131,  626,   87,  530,  356,  887,\n",
              "           27,  507, 1010,  107,  342,  110,  721,   52,  284,  545,  273,  333,\n",
              "          324,  594,  122,  576,  121,  214,   92,    8,  631,  581,  492,   28,\n",
              "          140,  281,  508,  158,  565,  570,  238,  120,  565,   95,  212,  479,\n",
              "          482,   55,  469,  688,   88,  546,  117, 1268,  299,   56,   81,  120,\n",
              "          567,   54,   13,  221,  422,  185,  801,  914,   81,  274,    2,  440,\n",
              "          124,  490,  300, 1128,   83,  294, 1057,  602,   47, 1411,  193,  635,\n",
              "          400,  731,  197,  285,  248,  640, 1043,  221, 1100,  521,  507, 1446,\n",
              "          310,  410,  434,  643,  386, 1415,   86,   80,  279,  291,   69,  403,\n",
              "          619,  189,  583,   80,  299,   11,   80,  184,  690, 1066,  718,   78,\n",
              "          484,   63,  218,  720,  650,  116, 1009,  434,    7,  217,  366,  301,\n",
              "          981,  531,   78,  181,  233,  741,  704,  167,  143, 1027,  134,  242,\n",
              "          480,  203,  351,  110,  283,  126,  768,  271,  473,  587,  709, 1117,\n",
              "           96,   70,  621,  221, 1015,  123,  454,  364,  339,  147,  587,  248,\n",
              "          263, 1530,   86,  747,  545,  125,  321, 1151,  230,   24,  377,  722,\n",
              "          180,   94,  927,  417,  327,  333,  195, 1196,  731,  824, 1140,  200,\n",
              "           85,  457,  483,  844,   54,   23,  814,  428,  646, 1016,   75,  221,\n",
              "          925,  312,  545,   45,  141,  144,  192,  247,   19,   78,  202,  153,\n",
              "          404,   93,  564,  225,  104,  240,  193,  234,   97,  236, 1667,  288,\n",
              "          273,  494,  477,  293,  296,   80,  400,  873,   62,  741,    4,   15,\n",
              "          648,  929,  257,  590,  334,  630,  678,  830,  601,  229,   82,  301,\n",
              "          631, 1059, 1234,  799,  386,  231,  372,  190,  324,  698,  285,  497,\n",
              "          165,  404,  414,    0,  127,  650,  630,  332,  284,  471,  419,  527,\n",
              "          206,  130,  317,  492,  738,  203,  167,  337,  185,  306,  400,  327,\n",
              "         1225,  142, 1168,  447,  193, 1261,  609,  216,  208,  120, 1005,  299,\n",
              "          646,  527,  569,   91,  143,  233,    9,  846,  722,  410,  840,  771,\n",
              "          128,  232,  278,  795,  526,  167,  976,  152, 1012,   94,  183,  434,\n",
              "          627,  479,  244,   47,  449,  397,  317, 1654,  353,  185,  497,  142,\n",
              "          596,  967,  463,  735,    0,  383, 1414,   81,   76,  302,  738,  233,\n",
              "          301,  290,  161,  131,  225,  339,  201,   14,  221,  241,  281,  920,\n",
              "          178,   68,  267,  549,  168,  281,  154,  384,  411,  325,  241,   51,\n",
              "         1290,  284,  474,  236,  191,  264,   49,  209,   12,   89,  641,  133,\n",
              "          517,   66,  482,  920,  198,  299,  738,  310,  294,  653,  202,  331,\n",
              "         1008,  931,  251,  592,  226,  426,  381,  955,  359,  715,  952,  189,\n",
              "          337,   19,  558,  832,  224,  370,  693,  422,  305,  291,  407,  755,\n",
              "          511,   61,   81,  647,  185,  153,  342,   11,  237,   64,  160,   99,\n",
              "         1044,  268,  344,  116,  431,  194,  987,  386,  345,  281,  221,   85,\n",
              "          140,  950,  796,  401,    6,  213,  234,  117,  227,  136,   97,   63,\n",
              "          291,  330,   26,  209,  477, 1015,  791,  275,   61,  428,  985,  230,\n",
              "          257, 1027, 1059,  558,  130,  143,  892,  134,  301,  948,  514,  146,\n",
              "          395,  311,  271,  583, 1343,  808,   60,  508,   87,  285,  120,  167,\n",
              "           95,  173,  553,  878,  603, 1045, 1078,  357,  207,  291,  517,  448,\n",
              "         1196,  233,   87,  131,   14,  214,  404,  201,  959,  808,   70,  749,\n",
              "          173,  777,    0,  181,  747,  429,  492,  513,  230,  417,  227,  420,\n",
              "          245,  108,  356,  235,  125, 1162,  117,  180,  552,  432,  653,  545,\n",
              "         1006,  116,   13,  306,   57,  297,  301,  834,  320, 1045, 1134,  470,\n",
              "          155,  107,  213,  482,  139,  749, 1062,  150,  840,  270,  312,   61,\n",
              "           10,  317,  574,  507,   95,  565,  285,  480,  184,  558,  202,  742,\n",
              "          404,   30,  183,   69,   22,  407,  500,  384,  288,  177,  193,  109,\n",
              "          640,  185,  377,  199], device='cuda:0'),\n",
              " tensor([2., 2., 5., 2., 2., 4., 3., 3., 1., 2., 4., 3., 4., 5., 4., 5., 3., 4.,\n",
              "         3., 2., 3., 4., 4., 2., 4., 4., 5., 3., 5., 5., 4., 4., 4., 4., 3., 4.,\n",
              "         3., 3., 3., 4., 4., 1., 3., 4., 5., 4., 4., 1., 4., 2., 4., 5., 1., 4.,\n",
              "         5., 3., 5., 2., 3., 5., 1., 4., 3., 4., 4., 3., 3., 3., 4., 3., 4., 2.,\n",
              "         3., 2., 5., 3., 4., 5., 4., 4., 4., 5., 4., 5., 3., 5., 4., 3., 1., 5.,\n",
              "         4., 5., 4., 4., 3., 3., 2., 4., 3., 4., 5., 4., 4., 2., 3., 3., 4., 3.,\n",
              "         3., 4., 4., 3., 2., 1., 3., 3., 4., 5., 4., 3., 3., 4., 4., 5., 2., 3.,\n",
              "         3., 2., 5., 4., 4., 5., 3., 4., 5., 2., 4., 5., 1., 5., 2., 2., 4., 4.,\n",
              "         2., 5., 5., 2., 5., 5., 5., 3., 3., 4., 1., 4., 3., 3., 5., 5., 1., 5.,\n",
              "         4., 3., 5., 4., 3., 3., 4., 4., 3., 3., 3., 3., 3., 3., 3., 4., 2., 3.,\n",
              "         2., 4., 2., 4., 4., 4., 1., 2., 3., 3., 4., 2., 4., 5., 3., 1., 3., 5.,\n",
              "         3., 4., 5., 3., 5., 3., 3., 4., 4., 5., 3., 5., 2., 4., 3., 4., 5., 2.,\n",
              "         3., 2., 4., 4., 3., 3., 4., 2., 5., 2., 4., 2., 5., 2., 5., 4., 3., 3.,\n",
              "         5., 5., 1., 2., 2., 1., 3., 4., 2., 4., 3., 4., 3., 5., 5., 2., 5., 3.,\n",
              "         5., 4., 1., 5., 4., 3., 3., 3., 4., 5., 5., 3., 5., 1., 5., 4., 4., 4.,\n",
              "         3., 1., 5., 4., 2., 2., 1., 2., 2., 2., 4., 4., 2., 4., 4., 4., 5., 5.,\n",
              "         3., 3., 5., 4., 4., 5., 3., 3., 5., 3., 5., 4., 4., 1., 2., 3., 5., 4.,\n",
              "         4., 3., 1., 2., 1., 4., 3., 5., 1., 3., 3., 3., 4., 2., 5., 3., 5., 4.,\n",
              "         3., 4., 4., 4., 3., 3., 4., 3., 3., 2., 4., 3., 4., 5., 5., 3., 4., 3.,\n",
              "         2., 5., 4., 3., 2., 5., 4., 4., 3., 4., 4., 5., 4., 4., 4., 5., 4., 3.,\n",
              "         2., 4., 4., 1., 3., 5., 5., 4., 2., 5., 3., 5., 4., 4., 3., 4., 3., 5.,\n",
              "         4., 4., 5., 3., 4., 5., 4., 1., 3., 4., 2., 5., 4., 5., 3., 3., 4., 4.,\n",
              "         3., 5., 3., 3., 3., 5., 4., 5., 1., 3., 2., 5., 4., 4., 5., 3., 3., 5.,\n",
              "         5., 1., 4., 4., 2., 2., 5., 1., 4., 3., 4., 4., 3., 4., 5., 1., 5., 3.,\n",
              "         2., 4., 3., 3., 2., 4., 4., 5., 5., 5., 5., 2., 2., 4., 4., 2., 3., 2.,\n",
              "         2., 3., 4., 4., 5., 5., 5., 4., 4., 4., 4., 4., 3., 5., 3., 3., 3., 4.,\n",
              "         4., 4., 2., 3., 3., 3., 2., 5., 3., 5., 5., 3., 3., 4., 4., 5., 3., 4.,\n",
              "         2., 4., 2., 1., 3., 3., 1., 3., 5., 4., 1., 4., 3., 5., 3., 3., 3., 3.,\n",
              "         4., 4., 5., 3., 4., 2., 3., 4., 5., 1., 3., 2., 3., 3., 5., 4., 4., 4.,\n",
              "         4., 3., 3., 2., 4., 4., 2., 5., 1., 4., 4., 3., 2., 4., 5., 3., 1., 5.,\n",
              "         1., 5., 3., 4., 3., 3., 3., 5., 3., 2., 4., 3., 5., 4., 1., 4., 1., 4.,\n",
              "         2., 3., 4., 5., 5., 4., 4., 4., 3., 4., 4., 4., 4., 2., 5., 2., 4., 2.,\n",
              "         3., 1., 5., 5., 4., 3., 4., 5., 2., 4., 4., 3., 3., 3., 1., 3., 3., 4.,\n",
              "         4., 4., 1., 3., 3., 1., 4., 1., 4., 3., 4., 2., 4., 3., 5., 3., 3., 3.,\n",
              "         2., 3., 4., 5., 2., 2., 4., 2., 2., 5., 4., 2., 4., 3., 3., 4., 1., 5.,\n",
              "         4., 2., 5., 5., 3., 3., 3., 3., 5., 2., 3., 4., 2., 4., 3., 2., 2., 3.,\n",
              "         3., 2., 2., 5., 3., 3., 2., 3., 1., 4., 5., 5., 5., 1., 4., 3., 3., 3.,\n",
              "         4., 4., 2., 4., 3., 5., 3., 4., 2., 3., 5., 4., 4., 3., 4., 3., 5., 4.,\n",
              "         5., 4., 5., 5., 4., 4., 3., 3., 5., 5., 2., 4., 4., 4., 4., 3., 4., 5.,\n",
              "         5., 5., 5., 5., 2., 3., 4., 5., 3., 4., 4., 5., 4., 5., 1., 4., 1., 4.,\n",
              "         5., 3., 3., 2., 4., 3., 3., 5., 2., 5., 5., 4., 4., 5., 3., 2., 1., 1.,\n",
              "         5., 2., 4., 5., 4., 3., 3., 4., 5., 3., 2., 2., 2., 3., 3., 4., 3., 2.,\n",
              "         5., 4., 3., 5., 4., 3., 5., 5., 4., 5., 4., 4., 4., 4., 3., 4., 5., 3.,\n",
              "         1., 3., 2., 4., 4., 3., 3., 5., 4., 5., 5., 4., 4., 4., 4., 3., 3., 4.,\n",
              "         5., 3., 5., 4., 4., 4., 3., 4., 4., 4., 3., 4., 5., 3., 5., 5., 2., 4.,\n",
              "         5., 3., 5., 3., 3., 4., 4., 5., 3., 1., 3., 2., 5., 4., 4., 3., 5., 4.,\n",
              "         5., 3., 5., 4., 3., 3., 2., 4., 4., 3., 3., 4., 3., 3., 4., 2., 3., 5.,\n",
              "         1., 4., 3., 3., 4., 5., 3., 3., 4., 3., 5., 5., 3., 2., 3., 3., 5., 5.,\n",
              "         4., 2., 2., 4., 4., 3., 4., 4., 3., 5., 2., 3., 4., 3., 4., 3., 5., 4.,\n",
              "         3., 5., 5., 3., 4., 3., 2., 1., 5., 3., 3., 4., 3., 3., 5., 4., 2., 3.,\n",
              "         4., 4., 3., 5., 5., 2., 2., 3., 5., 5., 4., 3., 4., 3., 2., 5., 3., 3.,\n",
              "         3., 5., 2., 4., 3., 3., 5., 2., 3., 5., 3., 3., 4., 3., 2., 3., 4., 4.,\n",
              "         4., 3., 4., 3., 5., 3., 4., 2., 2., 4., 4., 2., 4., 5., 5., 3., 3., 3.,\n",
              "         4., 4., 4., 4., 3., 4., 5., 2., 3., 4., 4., 5., 3., 5., 1., 1., 5., 2.,\n",
              "         4., 5., 3., 4., 1., 4., 5., 4., 5., 2., 3., 2., 4., 5., 4., 4., 3., 5.,\n",
              "         3., 3., 5., 5., 3., 2., 4., 2., 2., 2.], device='cuda:0')]"
            ]
          },
          "metadata": {},
          "execution_count": 13
        }
      ],
      "source": [
        "next(iter(train_dl))"
      ]
    },
    {
      "cell_type": "markdown",
      "metadata": {
        "id": "UZK6i3-wYwQb"
      },
      "source": [
        "## Collaborative Filtering through Matrix Factorization"
      ]
    },
    {
      "cell_type": "markdown",
      "metadata": {
        "id": "yY9bDXZgYwQb"
      },
      "source": [
        "### Architecture"
      ]
    },
    {
      "cell_type": "markdown",
      "metadata": {
        "id": "lYSITmp_YwQb"
      },
      "source": [
        "The simplest form of collaborative filtering consists of the following elements:\n",
        "\n",
        "1. **Item Embedding Layer** to convert item index to vectors\n",
        "2. **User Embedding Layer** to convert user index to vectors\n",
        "3. **Item Bias** to be added to the dot product\n",
        "4. **User Bias** to be added to the dot product\n",
        "\n",
        "We feed each pair of user and item indice into the layers above the perform the following operations to get the predicted rating:\n",
        "\n",
        "$$r̂=\\sum{(E_{user} * E_{item})} + B_{user} + B_{item}$$"
      ]
    },
    {
      "cell_type": "code",
      "execution_count": null,
      "metadata": {
        "id": "fvhjjxTtYwQb"
      },
      "outputs": [],
      "source": [
        "class MF(nn.Module):\n",
        "    def __init__(self, config):\n",
        "        super(MF, self).__init__()\n",
        "\n",
        "        #hyperparameters\n",
        "        self.config = config\n",
        "        self.nb_users = config['user_cnts']\n",
        "        self.nb_items = config['item_cnts']\n",
        "        self.emb_dim = config['emb_dim']\n",
        "        self.y_range = config['y_range']\n",
        "\n",
        "        #embeddings\n",
        "        self.emb_user = nn.Embedding(num_embeddings=self.nb_users, embedding_dim=self.emb_dim)\n",
        "        self.user_bias = nn.Embedding(num_embeddings=self.nb_users, embedding_dim=1)\n",
        "        self.emb_item = nn.Embedding(num_embeddings=self.nb_items, embedding_dim=self.emb_dim)\n",
        "        self.item_bias = nn.Embedding(num_embeddings=self.nb_items, embedding_dim=1)\n",
        "\n",
        "\n",
        "    def forward(self, user_idx, item_idx):\n",
        "        user_emb = self.emb_user(user_idx) # dim: (batch_size, embed_dim)\n",
        "        item_emb = self.emb_item(item_idx) # dim: (batch_size, embed_dim)\n",
        "        dot = (user_emb * item_emb).sum(1) # dim: (batch_size)\n",
        "        x = dot + self.user_bias(user_idx).squeeze() + self.item_bias(item_idx).squeeze()\n",
        "        x = torch.sigmoid(x) # dim: (batch_size)\n",
        "        x = x * (self.y_range[1] - self.y_range[0]) + self.y_range[0]\n",
        "        return(x)"
      ]
    },
    {
      "cell_type": "code",
      "execution_count": null,
      "metadata": {
        "colab": {
          "base_uri": "https://localhost:8080/"
        },
        "id": "cyYVoIEGYwQb",
        "outputId": "0ce62496-c9b7-4c2b-c7f7-3f3507f4d96c"
      },
      "outputs": [
        {
          "output_type": "execute_result",
          "data": {
            "text/plain": [
              "MF(\n",
              "  (emb_user): Embedding(943, 100)\n",
              "  (user_bias): Embedding(943, 1)\n",
              "  (emb_item): Embedding(1682, 100)\n",
              "  (item_bias): Embedding(1682, 1)\n",
              ")"
            ]
          },
          "metadata": {},
          "execution_count": 15
        }
      ],
      "source": [
        "model_config = {\n",
        "    'user_cnts':943, # unique users for embedding layer\n",
        "    'item_cnts':1682, # unique items for embedding layer\n",
        "    'emb_dim':100, #size of embedding vector\n",
        "    'y_range': [1.0,5.0]} #range of output\n",
        "model = MF(model_config)\n",
        "model"
      ]
    },
    {
      "cell_type": "markdown",
      "metadata": {
        "id": "9BltKkvnYwQb"
      },
      "source": [
        "### Puting things together and train the model!"
      ]
    },
    {
      "cell_type": "code",
      "execution_count": null,
      "metadata": {
        "id": "vtRypbG9YwQb"
      },
      "outputs": [],
      "source": [
        "#hyperparameters\n",
        "batch_size = 1000 #batch size\n",
        "lr = 1e-1 #learning rate\n",
        "epochs = 100 # epochs to train\n",
        "weight_decay = 1e-2 # L2 penalty (very important for this task, try different penalty weights)\n",
        "\n",
        "model_config = {\n",
        "    'user_cnts':943, # unique users for embedding layer\n",
        "    'item_cnts':1682, # unique items for embedding layer\n",
        "    'emb_dim':100, #size of embedding vector\n",
        "    'y_range': [1.0,5.0]} #range of model predictions\n",
        "\n",
        "#for recording training output\n",
        "train_losses=[]\n",
        "valid_losses = []\n",
        "best_loss = np.inf\n",
        "best_weights = None\n",
        "\n",
        "#datasets/loaders\n",
        "# Attention: remove num_workers to get this run on cuda. related issue: https://github.com/pytorch/pytorch/issues/21092\n",
        "# more readings on multiprocess for pytorch:https://pytorch.org/docs/master/notes/multiprocessing.html#cuda-in-multiprocessing\n",
        "train_ds = MovieLensDataset(train_df)\n",
        "train_dl = DataLoader(train_ds, batch_size=batch_size, shuffle=True)\n",
        "valid_ds = MovieLensDataset(valid_df)\n",
        "valid_dl = DataLoader(valid_ds, batch_size=batch_size, shuffle=True)\n",
        "\n",
        "#model\n",
        "model = MF(model_config)\n",
        "model = model.to(device) # to make sure your model paramters are also on cuda\n",
        "loss_fn = nn.MSELoss(reduction='sum')\n",
        "optim = torch.optim.SGD(model.parameters(), lr=lr, weight_decay=weight_decay)"
      ]
    },
    {
      "cell_type": "code",
      "execution_count": null,
      "metadata": {
        "id": "ooQb6yj9YwQc",
        "colab": {
          "base_uri": "https://localhost:8080/",
          "height": 1000,
          "referenced_widgets": [
            "ee88df6739c94f409fae0ab64a78bd6c",
            "bddcac8acd57424d83be7fcccae64f8b",
            "8e7ad191b5bc4cb19c12cd38439fee88",
            "9be18fcfca87449e96b3c7f34d77288f",
            "9e677adac2b34cf89cff7422a8b5c40c",
            "45cdb319b9584abc9d79f262fab57239",
            "3208bc0f46ab4d429cc4fad675246b18",
            "9f0b59eb1c58408f903b8decc4603d18",
            "ef79c136b5e343f1ac300a20717da68c",
            "24e36db366a5462fb89ce435f0c81662",
            "3f2998f91dd5476cb94b9f122f335151"
          ]
        },
        "outputId": "4a05780c-5bcb-47cc-ed95-934bb89d667c"
      },
      "outputs": [
        {
          "output_type": "stream",
          "name": "stderr",
          "text": [
            "<ipython-input-42-49773a3ae36e>:1: TqdmDeprecationWarning: This function will be removed in tqdm==5.0.0\n",
            "Please use `tqdm.notebook.tqdm` instead of `tqdm.tqdm_notebook`\n",
            "  for e in tqdm_notebook(range(epochs)):\n"
          ]
        },
        {
          "output_type": "display_data",
          "data": {
            "text/plain": [
              "  0%|          | 0/100 [00:00<?, ?it/s]"
            ],
            "application/vnd.jupyter.widget-view+json": {
              "version_major": 2,
              "version_minor": 0,
              "model_id": "ee88df6739c94f409fae0ab64a78bd6c"
            }
          },
          "metadata": {}
        },
        {
          "output_type": "stream",
          "name": "stdout",
          "text": [
            "Epoch 0 Train loss: 4.510074681099564; Valid loss: 4.214404788780819\n",
            "Epoch 1 Train loss: 3.3873066835928873; Valid loss: 3.7478628763338415\n",
            "Epoch 2 Train loss: 3.0065927928997427; Valid loss: 3.5188364459752783\n",
            "Epoch 3 Train loss: 2.828278599415076; Valid loss: 3.3608542384676565\n",
            "Epoch 4 Train loss: 2.748187420964965; Valid loss: 3.297748456451319\n",
            "Epoch 5 Train loss: 2.6704244995454136; Valid loss: 3.2030524309467787\n",
            "Epoch 6 Train loss: 2.610501119860674; Valid loss: 3.1475284321563493\n",
            "Epoch 7 Train loss: 2.546417801730533; Valid loss: 3.055546833576352\n",
            "Epoch 8 Train loss: 2.5040757049429136; Valid loss: 3.030429190416225\n",
            "Epoch 9 Train loss: 2.4833468436878934; Valid loss: 3.0235593373044805\n",
            "Epoch 10 Train loss: 2.447810813092601; Valid loss: 3.0071980319624867\n",
            "Epoch 11 Train loss: 2.421211150182956; Valid loss: 2.9606422529493637\n",
            "Epoch 12 Train loss: 2.3870896890224755; Valid loss: 2.9530046125231975\n",
            "Epoch 13 Train loss: 2.361354846497357; Valid loss: 2.9399189727556667\n",
            "Epoch 14 Train loss: 2.348531762487751; Valid loss: 2.9258300004556603\n",
            "Epoch 15 Train loss: 2.3487356699130335; Valid loss: 2.965671355651014\n",
            "Epoch 16 Train loss: 2.343969853255769; Valid loss: 2.894387639390575\n",
            "Epoch 17 Train loss: 2.304414556873309; Valid loss: 2.9098633848091198\n",
            "Epoch 18 Train loss: 2.294454437488355; Valid loss: 2.8678958184898593\n",
            "Epoch 19 Train loss: 2.2959285716288163; Valid loss: 2.8915219125919607\n",
            "Epoch 20 Train loss: 2.2872597477801184; Valid loss: 2.895351943079765\n",
            "Epoch 21 Train loss: 2.2613140822641498; Valid loss: 2.887263678088547\n",
            "Epoch 22 Train loss: 2.2629402914570567; Valid loss: 2.8988773285268095\n",
            "Epoch 23 Train loss: 2.2568684437581084; Valid loss: 2.9045370544886664\n",
            "Epoch 24 Train loss: 2.2503521062028162; Valid loss: 2.866671231897866\n",
            "Epoch 25 Train loss: 2.2659906812518114; Valid loss: 2.9467080885886134\n",
            "Epoch 26 Train loss: 2.2450391606198936; Valid loss: 2.8815792921112804\n",
            "Epoch 27 Train loss: 2.248253983452026; Valid loss: 2.894802937350875\n",
            "Epoch 28 Train loss: 2.2397135227974565; Valid loss: 2.888106649323966\n",
            "Epoch 29 Train loss: 2.225687213942772; Valid loss: 2.881996467080627\n",
            "Epoch 30 Train loss: 2.221152352375925; Valid loss: 2.9124910421361347\n",
            "Epoch 31 Train loss: 2.2238048754373345; Valid loss: 2.889159780848191\n",
            "Epoch 32 Train loss: 2.239985091167398; Valid loss: 2.9172612470382093\n",
            "Epoch 33 Train loss: 2.249305472890444; Valid loss: 2.8618547231243374\n",
            "Epoch 34 Train loss: 2.2430404839984783; Valid loss: 2.872477545793843\n",
            "Epoch 35 Train loss: 2.2227719667798387; Valid loss: 2.8774428042981177\n",
            "Epoch 36 Train loss: 2.214680261770937; Valid loss: 2.8722742592416157\n",
            "Epoch 37 Train loss: 2.218506695011455; Valid loss: 2.876261065291954\n",
            "Epoch 38 Train loss: 2.2223060212836065; Valid loss: 2.892789786896043\n",
            "Epoch 39 Train loss: 2.1981625850408353; Valid loss: 2.8876825488384807\n",
            "Epoch 40 Train loss: 2.196396420219685; Valid loss: 2.8815465674294143\n",
            "Epoch 41 Train loss: 2.2246974699515913; Valid loss: 2.8615048227482105\n",
            "Epoch 42 Train loss: 2.216559418118841; Valid loss: 2.8567837954831656\n",
            "Epoch 43 Train loss: 2.2074716694981262; Valid loss: 2.8963917672570916\n",
            "Epoch 44 Train loss: 2.2217925402032783; Valid loss: 2.90148314782443\n",
            "Epoch 45 Train loss: 2.211996534426928; Valid loss: 2.896651079293147\n",
            "Epoch 46 Train loss: 2.224276900862679; Valid loss: 2.8565913308589606\n",
            "Epoch 47 Train loss: 2.220195024340203; Valid loss: 2.864490471007589\n",
            "Epoch 48 Train loss: 2.2237119944453356; Valid loss: 2.8835090127501988\n",
            "Epoch 49 Train loss: 2.2114569545331824; Valid loss: 2.852416137824761\n",
            "Epoch 50 Train loss: 2.206455272747426; Valid loss: 2.8948357138123013\n",
            "Epoch 51 Train loss: 2.2257397835626103; Valid loss: 2.8979812961873677\n",
            "Epoch 52 Train loss: 2.2321254909229395; Valid loss: 2.865148407985651\n",
            "Epoch 53 Train loss: 2.226591929229032; Valid loss: 2.9014627078431534\n",
            "Epoch 54 Train loss: 2.2315776705755046; Valid loss: 2.8838979808042815\n",
            "Epoch 55 Train loss: 2.2062877532463667; Valid loss: 2.8975521213050106\n",
            "Epoch 56 Train loss: 2.2257006515160924; Valid loss: 2.859508461815681\n",
            "Epoch 57 Train loss: 2.232232247523497; Valid loss: 2.9115585052069526\n",
            "Epoch 58 Train loss: 2.215240485928529; Valid loss: 2.912528168080594\n",
            "Epoch 59 Train loss: 2.2238433659307026; Valid loss: 2.896715208278102\n",
            "Epoch 60 Train loss: 2.221769402508074; Valid loss: 2.844898561253148\n",
            "Epoch 61 Train loss: 2.217389420767; Valid loss: 2.9027829312823106\n",
            "Epoch 62 Train loss: 2.220487242365194; Valid loss: 2.8964475079533405\n",
            "Epoch 63 Train loss: 2.220270580701564; Valid loss: 2.9319063318117045\n",
            "Epoch 64 Train loss: 2.211815418312062; Valid loss: 2.899947728534266\n",
            "Epoch 65 Train loss: 2.208537614099419; Valid loss: 2.892412572802061\n",
            "Epoch 66 Train loss: 2.220602775844133; Valid loss: 2.8601938807951686\n",
            "Epoch 67 Train loss: 2.237504035315398; Valid loss: 2.882537149245261\n",
            "Epoch 68 Train loss: 2.219119634351365; Valid loss: 2.897530969354785\n",
            "Epoch 69 Train loss: 2.2141636093154813; Valid loss: 2.890407616462586\n",
            "Epoch 70 Train loss: 2.2111332222314233; Valid loss: 2.8805324906382554\n",
            "Epoch 71 Train loss: 2.2100846224777797; Valid loss: 2.921580840320122\n",
            "Epoch 72 Train loss: 2.2134306375377815; Valid loss: 2.918038781854785\n",
            "Epoch 73 Train loss: 2.2092615434819924; Valid loss: 2.8711167660143824\n",
            "Epoch 74 Train loss: 2.211523696277741; Valid loss: 2.8650614701045534\n",
            "Epoch 75 Train loss: 2.216445615216045; Valid loss: 2.8669925629018094\n",
            "Epoch 76 Train loss: 2.2126776563103814; Valid loss: 2.8801014516917416\n",
            "Epoch 77 Train loss: 2.2149870886080865; Valid loss: 2.9321993135065947\n",
            "Epoch 78 Train loss: 2.1933898177751843; Valid loss: 2.921962144999337\n",
            "Epoch 79 Train loss: 2.189278309853566; Valid loss: 2.8869083667484094\n",
            "Epoch 80 Train loss: 2.1865806071637444; Valid loss: 2.8729348240323436\n",
            "Epoch 81 Train loss: 2.203850068274194; Valid loss: 2.9199136679397535\n",
            "Epoch 82 Train loss: 2.1945484600675753; Valid loss: 2.912595882800073\n",
            "Epoch 83 Train loss: 2.1923003432686734; Valid loss: 2.8595457042641503\n",
            "Epoch 84 Train loss: 2.1884205142064665; Valid loss: 2.867527044464144\n",
            "Epoch 85 Train loss: 2.1874817413434533; Valid loss: 2.8793297291307662\n",
            "Epoch 86 Train loss: 2.2097330634820613; Valid loss: 2.8876310929008153\n",
            "Epoch 87 Train loss: 2.207811358412778; Valid loss: 2.912637448841795\n",
            "Epoch 88 Train loss: 2.2097939247720166; Valid loss: 2.828991064919141\n",
            "Epoch 89 Train loss: 2.200862554731492; Valid loss: 2.885287407625265\n",
            "Epoch 90 Train loss: 2.2192698130481774; Valid loss: 2.9608139539700424\n",
            "Epoch 91 Train loss: 2.223463729550089; Valid loss: 2.9423987088248937\n",
            "Epoch 92 Train loss: 2.2020259089352505; Valid loss: 2.908253791299377\n",
            "Epoch 93 Train loss: 2.201897755998037; Valid loss: 2.923281876532675\n",
            "Epoch 94 Train loss: 2.1883576837796386; Valid loss: 2.8912234681534996\n",
            "Epoch 95 Train loss: 2.1891898860385957; Valid loss: 2.866784098393591\n",
            "Epoch 96 Train loss: 2.202783538727383; Valid loss: 2.885622952118405\n",
            "Epoch 97 Train loss: 2.197345901359532; Valid loss: 2.8961056981334505\n",
            "Epoch 98 Train loss: 2.202471642811672; Valid loss: 2.8918106483629376\n",
            "Epoch 99 Train loss: 2.2032223853420523; Valid loss: 2.9075916731218516\n"
          ]
        }
      ],
      "source": [
        "for e in tqdm_notebook(range(epochs)):\n",
        "    model.train()\n",
        "    train_loss = 0\n",
        "\n",
        "    # start batch training\n",
        "    for u, i, r in train_dl:\n",
        "        #model prediction\n",
        "        r_pred = model(u,i)\n",
        "        #compute loss\n",
        "        loss = loss_fn(r_pred,r)\n",
        "        #backprop\n",
        "        optim.zero_grad()\n",
        "        loss.backward()\n",
        "        optim.step()\n",
        "        train_loss+= loss.detach().item()\n",
        "\n",
        "    #record loss\n",
        "    train_loss /= len(train_ds) # average loss over all examples.\n",
        "    train_losses.append(train_loss)\n",
        "\n",
        "    #validation\n",
        "    model.eval() # this fix the trainable parameters.\n",
        "    valid_loss = 0\n",
        "    for u, i, r in valid_dl:\n",
        "        r_pred = model(u,i)\n",
        "        loss = loss_fn(r_pred,r)\n",
        "        valid_loss+=loss.detach().item()\n",
        "\n",
        "    valid_loss/=len(valid_ds)\n",
        "    valid_losses.append(valid_loss)\n",
        "\n",
        "    print(f'Epoch {e} Train loss: {train_loss}; Valid loss: {valid_loss}')\n",
        "\n",
        "    #choose best model\n",
        "    if valid_loss < best_loss:\n",
        "        best_loss = valid_loss\n",
        "        # you can save the current best model parameters for further training:\n",
        "        # best_weights = deepcopy(model.state_dict())"
      ]
    },
    {
      "cell_type": "code",
      "execution_count": null,
      "metadata": {
        "id": "WhjSsGB-YwQc",
        "colab": {
          "base_uri": "https://localhost:8080/",
          "height": 447
        },
        "outputId": "8f2ae8b7-a88e-4415-cf8d-d1eea3ddf3e1"
      },
      "outputs": [
        {
          "output_type": "stream",
          "name": "stdout",
          "text": [
            "Best RMSE: 1.6819604825676318\n"
          ]
        },
        {
          "output_type": "display_data",
          "data": {
            "text/plain": [
              "<Figure size 640x480 with 1 Axes>"
            ],
            "image/png": "[encoded data removed]"
          },
          "metadata": {}
        }
      ],
      "source": [
        "plt.plot(train_losses, label='train_loss')\n",
        "plt.plot(valid_losses, label='valid_loss')\n",
        "plt.legend()\n",
        "print(f'Best RMSE: {np.sqrt(best_loss)}')"
      ]
    },
    {
      "cell_type": "markdown",
      "metadata": {
        "id": "TkBHq_ixYwQc"
      },
      "source": [
        "### Item Embeddings"
      ]
    },
    {
      "cell_type": "markdown",
      "metadata": {
        "id": "zkfVPfpSYwQc"
      },
      "source": [
        "The useful thing about having item bias is that we can use it to rank our items, in this case, movies. Movies with more positive bias values are considered to be the \"better\" ones."
      ]
    },
    {
      "cell_type": "code",
      "execution_count": null,
      "metadata": {
        "id": "9U-QWn75YwQc",
        "outputId": "c7116808-e81c-4a0c-bf03-5e9db9a378f5",
        "colab": {
          "base_uri": "https://localhost:8080/",
          "height": 206
        }
      },
      "outputs": [
        {
          "output_type": "execute_result",
          "data": {
            "text/plain": [
              "   item_id              title\n",
              "0        0   Toy Story (1995)\n",
              "1        1   GoldenEye (1995)\n",
              "2        2  Four Rooms (1995)\n",
              "3        3  Get Shorty (1995)\n",
              "4        4     Copycat (1995)"
            ],
            "text/html": [
              "\n",
              "  <div id=\"df-fafd7ec3-c35a-4616-ba1e-27b438b5682b\" class=\"colab-df-container\">\n",
              "    <div>\n",
              "<style scoped>\n",
              "    .dataframe tbody tr th:only-of-type {\n",
              "        vertical-align: middle;\n",
              "    }\n",
              "\n",
              "    .dataframe tbody tr th {\n",
              "        vertical-align: top;\n",
              "    }\n",
              "\n",
              "    .dataframe thead th {\n",
              "        text-align: right;\n",
              "    }\n",
              "</style>\n",
              "<table border=\"1\" class=\"dataframe\">\n",
              "  <thead>\n",
              "    <tr style=\"text-align: right;\">\n",
              "      <th></th>\n",
              "      <th>item_id</th>\n",
              "      <th>title</th>\n",
              "    </tr>\n",
              "  </thead>\n",
              "  <tbody>\n",
              "    <tr>\n",
              "      <th>0</th>\n",
              "      <td>0</td>\n",
              "      <td>Toy Story (1995)</td>\n",
              "    </tr>\n",
              "    <tr>\n",
              "      <th>1</th>\n",
              "      <td>1</td>\n",
              "      <td>GoldenEye (1995)</td>\n",
              "    </tr>\n",
              "    <tr>\n",
              "      <th>2</th>\n",
              "      <td>2</td>\n",
              "      <td>Four Rooms (1995)</td>\n",
              "    </tr>\n",
              "    <tr>\n",
              "      <th>3</th>\n",
              "      <td>3</td>\n",
              "      <td>Get Shorty (1995)</td>\n",
              "    </tr>\n",
              "    <tr>\n",
              "      <th>4</th>\n",
              "      <td>4</td>\n",
              "      <td>Copycat (1995)</td>\n",
              "    </tr>\n",
              "  </tbody>\n",
              "</table>\n",
              "</div>\n",
              "    <div class=\"colab-df-buttons\">\n",
              "\n",
              "  <div class=\"colab-df-container\">\n",
              "    <button class=\"colab-df-convert\" onclick=\"convertToInteractive('df-fafd7ec3-c35a-4616-ba1e-27b438b5682b')\"\n",
              "            title=\"Convert this dataframe to an interactive table.\"\n",
              "            style=\"display:none;\">\n",
              "\n",
              "  <svg xmlns=\"http://www.w3.org/2000/svg\" height=\"24px\" viewBox=\"0 -960 960 960\">\n",
              "    <path d=\"M120-120v-720h720v720H120Zm60-500h600v-160H180v160Zm220 220h160v-160H400v160Zm0 220h160v-160H400v160ZM180-400h160v-160H180v160Zm440 0h160v-160H620v160ZM180-180h160v-160H180v160Zm440 0h160v-160H620v160Z\"/>\n",
              "  </svg>\n",
              "    </button>\n",
              "\n",
              "  <style>\n",
              "    .colab-df-container {\n",
              "      display:flex;\n",
              "      gap: 12px;\n",
              "    }\n",
              "\n",
              "    .colab-df-convert {\n",
              "      background-color: #E8F0FE;\n",
              "      border: none;\n",
              "      border-radius: 50%;\n",
              "      cursor: pointer;\n",
              "      display: none;\n",
              "      fill: #1967D2;\n",
              "      height: 32px;\n",
              "      padding: 0 0 0 0;\n",
              "      width: 32px;\n",
              "    }\n",
              "\n",
              "    .colab-df-convert:hover {\n",
              "      background-color: #E2EBFA;\n",
              "      box-shadow: 0px 1px 2px rgba(60, 64, 67, 0.3), 0px 1px 3px 1px rgba(60, 64, 67, 0.15);\n",
              "      fill: #174EA6;\n",
              "    }\n",
              "\n",
              "    .colab-df-buttons div {\n",
              "      margin-bottom: 4px;\n",
              "    }\n",
              "\n",
              "    [theme=dark] .colab-df-convert {\n",
              "      background-color: #3B4455;\n",
              "      fill: #D2E3FC;\n",
              "    }\n",
              "\n",
              "    [theme=dark] .colab-df-convert:hover {\n",
              "      background-color: #434B5C;\n",
              "      box-shadow: 0px 1px 3px 1px rgba(0, 0, 0, 0.15);\n",
              "      filter: drop-shadow(0px 1px 2px rgba(0, 0, 0, 0.3));\n",
              "      fill: #FFFFFF;\n",
              "    }\n",
              "  </style>\n",
              "\n",
              "    <script>\n",
              "      const buttonEl =\n",
              "        document.querySelector('#df-fafd7ec3-c35a-4616-ba1e-27b438b5682b button.colab-df-convert');\n",
              "      buttonEl.style.display =\n",
              "        google.colab.kernel.accessAllowed ? 'block' : 'none';\n",
              "\n",
              "      async function convertToInteractive(key) {\n",
              "        const element = document.querySelector('#df-fafd7ec3-c35a-4616-ba1e-27b438b5682b');\n",
              "        const dataTable =\n",
              "          await google.colab.kernel.invokeFunction('convertToInteractive',\n",
              "                                                    [key], {});\n",
              "        if (!dataTable) return;\n",
              "\n",
              "        const docLinkHtml = 'Like what you see? Visit the ' +\n",
              "          '<a target=\"_blank\" href=https://colab.research.google.com/notebooks/data_table.ipynb>data table notebook</a>'\n",
              "          + ' to learn more about interactive tables.';\n",
              "        element.innerHTML = '';\n",
              "        dataTable['output_type'] = 'display_data';\n",
              "        await google.colab.output.renderOutput(dataTable, element);\n",
              "        const docLink = document.createElement('div');\n",
              "        docLink.innerHTML = docLinkHtml;\n",
              "        element.appendChild(docLink);\n",
              "      }\n",
              "    </script>\n",
              "  </div>\n",
              "\n",
              "\n",
              "<div id=\"df-61351490-d13c-4db1-8c4d-7fba3732dc88\">\n",
              "  <button class=\"colab-df-quickchart\" onclick=\"quickchart('df-61351490-d13c-4db1-8c4d-7fba3732dc88')\"\n",
              "            title=\"Suggest charts\"\n",
              "            style=\"display:none;\">\n",
              "\n",
              "<svg xmlns=\"http://www.w3.org/2000/svg\" height=\"24px\"viewBox=\"0 0 24 24\"\n",
              "     width=\"24px\">\n",
              "    <g>\n",
              "        <path d=\"M19 3H5c-1.1 0-2 .9-2 2v14c0 1.1.9 2 2 2h14c1.1 0 2-.9 2-2V5c0-1.1-.9-2-2-2zM9 17H7v-7h2v7zm4 0h-2V7h2v10zm4 0h-2v-4h2v4z\"/>\n",
              "    </g>\n",
              "</svg>\n",
              "  </button>\n",
              "\n",
              "<style>\n",
              "  .colab-df-quickchart {\n",
              "      --bg-color: #E8F0FE;\n",
              "      --fill-color: #1967D2;\n",
              "      --hover-bg-color: #E2EBFA;\n",
              "      --hover-fill-color: #174EA6;\n",
              "      --disabled-fill-color: #AAA;\n",
              "      --disabled-bg-color: #DDD;\n",
              "  }\n",
              "\n",
              "  [theme=dark] .colab-df-quickchart {\n",
              "      --bg-color: #3B4455;\n",
              "      --fill-color: #D2E3FC;\n",
              "      --hover-bg-color: #434B5C;\n",
              "      --hover-fill-color: #FFFFFF;\n",
              "      --disabled-bg-color: #3B4455;\n",
              "      --disabled-fill-color: #666;\n",
              "  }\n",
              "\n",
              "  .colab-df-quickchart {\n",
              "    background-color: var(--bg-color);\n",
              "    border: none;\n",
              "    border-radius: 50%;\n",
              "    cursor: pointer;\n",
              "    display: none;\n",
              "    fill: var(--fill-color);\n",
              "    height: 32px;\n",
              "    padding: 0;\n",
              "    width: 32px;\n",
              "  }\n",
              "\n",
              "  .colab-df-quickchart:hover {\n",
              "    background-color: var(--hover-bg-color);\n",
              "    box-shadow: 0 1px 2px rgba(60, 64, 67, 0.3), 0 1px 3px 1px rgba(60, 64, 67, 0.15);\n",
              "    fill: var(--button-hover-fill-color);\n",
              "  }\n",
              "\n",
              "  .colab-df-quickchart-complete:disabled,\n",
              "  .colab-df-quickchart-complete:disabled:hover {\n",
              "    background-color: var(--disabled-bg-color);\n",
              "    fill: var(--disabled-fill-color);\n",
              "    box-shadow: none;\n",
              "  }\n",
              "\n",
              "  .colab-df-spinner {\n",
              "    border: 2px solid var(--fill-color);\n",
              "    border-color: transparent;\n",
              "    border-bottom-color: var(--fill-color);\n",
              "    animation:\n",
              "      spin 1s steps(1) infinite;\n",
              "  }\n",
              "\n",
              "  @keyframes spin {\n",
              "    0% {\n",
              "      border-color: transparent;\n",
              "      border-bottom-color: var(--fill-color);\n",
              "      border-left-color: var(--fill-color);\n",
              "    }\n",
              "    20% {\n",
              "      border-color: transparent;\n",
              "      border-left-color: var(--fill-color);\n",
              "      border-top-color: var(--fill-color);\n",
              "    }\n",
              "    30% {\n",
              "      border-color: transparent;\n",
              "      border-left-color: var(--fill-color);\n",
              "      border-top-color: var(--fill-color);\n",
              "      border-right-color: var(--fill-color);\n",
              "    }\n",
              "    40% {\n",
              "      border-color: transparent;\n",
              "      border-right-color: var(--fill-color);\n",
              "      border-top-color: var(--fill-color);\n",
              "    }\n",
              "    60% {\n",
              "      border-color: transparent;\n",
              "      border-right-color: var(--fill-color);\n",
              "    }\n",
              "    80% {\n",
              "      border-color: transparent;\n",
              "      border-right-color: var(--fill-color);\n",
              "      border-bottom-color: var(--fill-color);\n",
              "    }\n",
              "    90% {\n",
              "      border-color: transparent;\n",
              "      border-bottom-color: var(--fill-color);\n",
              "    }\n",
              "  }\n",
              "</style>\n",
              "\n",
              "  <script>\n",
              "    async function quickchart(key) {\n",
              "      const quickchartButtonEl =\n",
              "        document.querySelector('#' + key + ' button');\n",
              "      quickchartButtonEl.disabled = true;  // To prevent multiple clicks.\n",
              "      quickchartButtonEl.classList.add('colab-df-spinner');\n",
              "      try {\n",
              "        const charts = await google.colab.kernel.invokeFunction(\n",
              "            'suggestCharts', [key], {});\n",
              "      } catch (error) {\n",
              "        console.error('Error during call to suggestCharts:', error);\n",
              "      }\n",
              "      quickchartButtonEl.classList.remove('colab-df-spinner');\n",
              "      quickchartButtonEl.classList.add('colab-df-quickchart-complete');\n",
              "    }\n",
              "    (() => {\n",
              "      let quickchartButtonEl =\n",
              "        document.querySelector('#df-61351490-d13c-4db1-8c4d-7fba3732dc88 button');\n",
              "      quickchartButtonEl.style.display =\n",
              "        google.colab.kernel.accessAllowed ? 'block' : 'none';\n",
              "    })();\n",
              "  </script>\n",
              "</div>\n",
              "    </div>\n",
              "  </div>\n"
            ],
            "application/vnd.google.colaboratory.intrinsic+json": {
              "type": "dataframe",
              "variable_name": "item_df",
              "summary": "{\n  \"name\": \"item_df\",\n  \"rows\": 1682,\n  \"fields\": [\n    {\n      \"column\": \"item_id\",\n      \"properties\": {\n        \"dtype\": \"number\",\n        \"std\": 485,\n        \"min\": 0,\n        \"max\": 1681,\n        \"num_unique_values\": 1682,\n        \"samples\": [\n          1393,\n          743,\n          1605\n        ],\n        \"semantic_type\": \"\",\n        \"description\": \"\"\n      }\n    },\n    {\n      \"column\": \"title\",\n      \"properties\": {\n        \"dtype\": \"string\",\n        \"num_unique_values\": 1664,\n        \"samples\": [\n          \"Madame Butterfly (1995)\",\n          \"Wrong Trousers, The (1993)\",\n          \"Breaking the Waves (1996)\"\n        ],\n        \"semantic_type\": \"\",\n        \"description\": \"\"\n      }\n    }\n  ]\n}"
            }
          },
          "metadata": {},
          "execution_count": 19
        }
      ],
      "source": [
        "item_df = pd.read_csv(\"ml-100k/u.item\", delimiter='|', encoding='latin-1', header=None,\n",
        "                    names=['item_id', 'title', 'date', 'N', 'url', *[f'g{i}' for i in range(19)]])\n",
        "item_df = item_df[['item_id','title']].copy()\n",
        "item_df['item_id'] = item_df.item_id.map(lambda x: int(x)-1)\n",
        "item_df.head()"
      ]
    },
    {
      "cell_type": "code",
      "execution_count": null,
      "metadata": {
        "id": "IDxCpfRvYwQc"
      },
      "outputs": [],
      "source": [
        "movie_ranking = []\n",
        "for item_id in model.item_bias.weight.data.squeeze().argsort().cpu().numpy():\n",
        "    movie_ranking.append((item_df.iloc[item_id,1],model.item_bias.weight.data[item_id].item()))"
      ]
    },
    {
      "cell_type": "code",
      "execution_count": null,
      "metadata": {
        "id": "N63cWLyzYwQc",
        "colab": {
          "base_uri": "https://localhost:8080/"
        },
        "outputId": "c1f48771-6c44-43d7-ac19-61bf8246f970"
      },
      "outputs": [
        {
          "output_type": "execute_result",
          "data": {
            "text/plain": [
              "[('Godfather, The (1972)', 2.2826943397521973),\n",
              " ('Shawshank Redemption, The (1994)', 2.2430996894836426),\n",
              " (\"Schindler's List (1993)\", 2.242823600769043),\n",
              " ('Casablanca (1942)', 2.2406160831451416),\n",
              " ('Silence of the Lambs, The (1991)', 2.2341482639312744),\n",
              " ('Star Wars (1977)', 2.1481223106384277),\n",
              " ('North by Northwest (1959)', 2.0338242053985596),\n",
              " ('Usual Suspects, The (1995)', 2.0171267986297607),\n",
              " ('Titanic (1997)', 2.0058960914611816),\n",
              " ('Vertigo (1958)', 1.90361750125885)]"
            ]
          },
          "metadata": {},
          "execution_count": 21
        }
      ],
      "source": [
        "#best rated movies\n",
        "movie_ranking[::-1][:10]"
      ]
    },
    {
      "cell_type": "code",
      "execution_count": null,
      "metadata": {
        "id": "2Igimlq1YwQc",
        "colab": {
          "base_uri": "https://localhost:8080/"
        },
        "outputId": "b1495035-b915-4aa8-eaa1-b855ccc17b27"
      },
      "outputs": [
        {
          "output_type": "execute_result",
          "data": {
            "text/plain": [
              "[('Police Story 4: Project S (Chao ji ji hua) (1993)', -1.9508373737335205),\n",
              " ('Indian Summer (1996)', -1.7052966356277466),\n",
              " ('Leave It to Beaver (1997)', -1.6747022867202759),\n",
              " ('Free Willy 3: The Rescue (1997)', -1.6679917573928833),\n",
              " ('Turbo: A Power Rangers Movie (1997)', -1.6323182582855225),\n",
              " ('Free Willy 2: The Adventure Home (1995)', -1.6277214288711548),\n",
              " ('Crow: City of Angels, The (1996)', -1.559361219406128),\n",
              " ('Hostile Intentions (1994)', -1.5353333950042725),\n",
              " ('Excess Baggage (1997)', -1.5064973831176758),\n",
              " (\"I'll Do Anything (1994)\", -1.4722967147827148)]"
            ]
          },
          "metadata": {},
          "execution_count": 22
        }
      ],
      "source": [
        "#worst rated movies\n",
        "movie_ranking[:10]"
      ]
    },
    {
      "cell_type": "code",
      "source": [],
      "metadata": {
        "id": "szQCi-O4vQwN"
      },
      "execution_count": null,
      "outputs": []
    }
  ],
  "metadata": {
    "kernelspec": {
      "display_name": "Python 3",
      "language": "python",
      "name": "python3"
    },
    "language_info": {
      "codemirror_mode": {
        "name": "ipython",
        "version": 3
      },
      "file_extension": ".py",
      "mimetype": "text/x-python",
      "name": "python",
      "nbconvert_exporter": "python",
      "pygments_lexer": "ipython3",
      "version": "3.6.8"
    },
    "colab": {
      "provenance": [],
      "include_colab_link": true
    },
    "gpuClass": "standard",
    "accelerator": "GPU",
    "widgets": {
      "application/vnd.jupyter.widget-state+json": {
        "ee88df6739c94f409fae0ab64a78bd6c": {
          "model_module": "@jupyter-widgets/controls",
          "model_name": "HBoxModel",
          "model_module_version": "1.5.0",
          "state": {
            "_dom_classes": [],
            "_model_module": "@jupyter-widgets/controls",
            "_model_module_version": "1.5.0",
            "_model_name": "HBoxModel",
            "_view_count": null,
            "_view_module": "@jupyter-widgets/controls",
            "_view_module_version": "1.5.0",
            "_view_name": "HBoxView",
            "box_style": "",
            "children": [
              "IPY_MODEL_bddcac8acd57424d83be7fcccae64f8b",
              "IPY_MODEL_8e7ad191b5bc4cb19c12cd38439fee88",
              "IPY_MODEL_9be18fcfca87449e96b3c7f34d77288f"
            ],
            "layout": "IPY_MODEL_9e677adac2b34cf89cff7422a8b5c40c"
          }
        },
        "bddcac8acd57424d83be7fcccae64f8b": {
          "model_module": "@jupyter-widgets/controls",
          "model_name": "HTMLModel",
          "model_module_version": "1.5.0",
          "state": {
            "_dom_classes": [],
            "_model_module": "@jupyter-widgets/controls",
            "_model_module_version": "1.5.0",
            "_model_name": "HTMLModel",
            "_view_count": null,
            "_view_module": "@jupyter-widgets/controls",
            "_view_module_version": "1.5.0",
            "_view_name": "HTMLView",
            "description": "",
            "description_tooltip": null,
            "layout": "IPY_MODEL_45cdb319b9584abc9d79f262fab57239",
            "placeholder": "​",
            "style": "IPY_MODEL_3208bc0f46ab4d429cc4fad675246b18",
            "value": "100%"
          }
        },
        "8e7ad191b5bc4cb19c12cd38439fee88": {
          "model_module": "@jupyter-widgets/controls",
          "model_name": "FloatProgressModel",
          "model_module_version": "1.5.0",
          "state": {
            "_dom_classes": [],
            "_model_module": "@jupyter-widgets/controls",
            "_model_module_version": "1.5.0",
            "_model_name": "FloatProgressModel",
            "_view_count": null,
            "_view_module": "@jupyter-widgets/controls",
            "_view_module_version": "1.5.0",
            "_view_name": "ProgressView",
            "bar_style": "success",
            "description": "",
            "description_tooltip": null,
            "layout": "IPY_MODEL_9f0b59eb1c58408f903b8decc4603d18",
            "max": 100,
            "min": 0,
            "orientation": "horizontal",
            "style": "IPY_MODEL_ef79c136b5e343f1ac300a20717da68c",
            "value": 100
          }
        },
        "9be18fcfca87449e96b3c7f34d77288f": {
          "model_module": "@jupyter-widgets/controls",
          "model_name": "HTMLModel",
          "model_module_version": "1.5.0",
          "state": {
            "_dom_classes": [],
            "_model_module": "@jupyter-widgets/controls",
            "_model_module_version": "1.5.0",
            "_model_name": "HTMLModel",
            "_view_count": null,
            "_view_module": "@jupyter-widgets/controls",
            "_view_module_version": "1.5.0",
            "_view_name": "HTMLView",
            "description": "",
            "description_tooltip": null,
            "layout": "IPY_MODEL_24e36db366a5462fb89ce435f0c81662",
            "placeholder": "​",
            "style": "IPY_MODEL_3f2998f91dd5476cb94b9f122f335151",
            "value": " 100/100 [02:26&lt;00:00,  1.42s/it]"
          }
        },
        "9e677adac2b34cf89cff7422a8b5c40c": {
          "model_module": "@jupyter-widgets/base",
          "model_name": "LayoutModel",
          "model_module_version": "1.2.0",
          "state": {
            "_model_module": "@jupyter-widgets/base",
            "_model_module_version": "1.2.0",
            "_model_name": "LayoutModel",
            "_view_count": null,
            "_view_module": "@jupyter-widgets/base",
            "_view_module_version": "1.2.0",
            "_view_name": "LayoutView",
            "align_content": null,
            "align_items": null,
            "align_self": null,
            "border": null,
            "bottom": null,
            "display": null,
            "flex": null,
            "flex_flow": null,
            "grid_area": null,
            "grid_auto_columns": null,
            "grid_auto_flow": null,
            "grid_auto_rows": null,
            "grid_column": null,
            "grid_gap": null,
            "grid_row": null,
            "grid_template_areas": null,
            "grid_template_columns": null,
            "grid_template_rows": null,
            "height": null,
            "justify_content": null,
            "justify_items": null,
            "left": null,
            "margin": null,
            "max_height": null,
            "max_width": null,
            "min_height": null,
            "min_width": null,
            "object_fit": null,
            "object_position": null,
            "order": null,
            "overflow": null,
            "overflow_x": null,
            "overflow_y": null,
            "padding": null,
            "right": null,
            "top": null,
            "visibility": null,
            "width": null
          }
        },
        "45cdb319b9584abc9d79f262fab57239": {
          "model_module": "@jupyter-widgets/base",
          "model_name": "LayoutModel",
          "model_module_version": "1.2.0",
          "state": {
            "_model_module": "@jupyter-widgets/base",
            "_model_module_version": "1.2.0",
            "_model_name": "LayoutModel",
            "_view_count": null,
            "_view_module": "@jupyter-widgets/base",
            "_view_module_version": "1.2.0",
            "_view_name": "LayoutView",
            "align_content": null,
            "align_items": null,
            "align_self": null,
            "border": null,
            "bottom": null,
            "display": null,
            "flex": null,
            "flex_flow": null,
            "grid_area": null,
            "grid_auto_columns": null,
            "grid_auto_flow": null,
            "grid_auto_rows": null,
            "grid_column": null,
            "grid_gap": null,
            "grid_row": null,
            "grid_template_areas": null,
            "grid_template_columns": null,
            "grid_template_rows": null,
            "height": null,
            "justify_content": null,
            "justify_items": null,
            "left": null,
            "margin": null,
            "max_height": null,
            "max_width": null,
            "min_height": null,
            "min_width": null,
            "object_fit": null,
            "object_position": null,
            "order": null,
            "overflow": null,
            "overflow_x": null,
            "overflow_y": null,
            "padding": null,
            "right": null,
            "top": null,
            "visibility": null,
            "width": null
          }
        },
        "3208bc0f46ab4d429cc4fad675246b18": {
          "model_module": "@jupyter-widgets/controls",
          "model_name": "DescriptionStyleModel",
          "model_module_version": "1.5.0",
          "state": {
            "_model_module": "@jupyter-widgets/controls",
            "_model_module_version": "1.5.0",
            "_model_name": "DescriptionStyleModel",
            "_view_count": null,
            "_view_module": "@jupyter-widgets/base",
            "_view_module_version": "1.2.0",
            "_view_name": "StyleView",
            "description_width": ""
          }
        },
        "9f0b59eb1c58408f903b8decc4603d18": {
          "model_module": "@jupyter-widgets/base",
          "model_name": "LayoutModel",
          "model_module_version": "1.2.0",
          "state": {
            "_model_module": "@jupyter-widgets/base",
            "_model_module_version": "1.2.0",
            "_model_name": "LayoutModel",
            "_view_count": null,
            "_view_module": "@jupyter-widgets/base",
            "_view_module_version": "1.2.0",
            "_view_name": "LayoutView",
            "align_content": null,
            "align_items": null,
            "align_self": null,
            "border": null,
            "bottom": null,
            "display": null,
            "flex": null,
            "flex_flow": null,
            "grid_area": null,
            "grid_auto_columns": null,
            "grid_auto_flow": null,
            "grid_auto_rows": null,
            "grid_column": null,
            "grid_gap": null,
            "grid_row": null,
            "grid_template_areas": null,
            "grid_template_columns": null,
            "grid_template_rows": null,
            "height": null,
            "justify_content": null,
            "justify_items": null,
            "left": null,
            "margin": null,
            "max_height": null,
            "max_width": null,
            "min_height": null,
            "min_width": null,
            "object_fit": null,
            "object_position": null,
            "order": null,
            "overflow": null,
            "overflow_x": null,
            "overflow_y": null,
            "padding": null,
            "right": null,
            "top": null,
            "visibility": null,
            "width": null
          }
        },
        "ef79c136b5e343f1ac300a20717da68c": {
          "model_module": "@jupyter-widgets/controls",
          "model_name": "ProgressStyleModel",
          "model_module_version": "1.5.0",
          "state": {
            "_model_module": "@jupyter-widgets/controls",
            "_model_module_version": "1.5.0",
            "_model_name": "ProgressStyleModel",
            "_view_count": null,
            "_view_module": "@jupyter-widgets/base",
            "_view_module_version": "1.2.0",
            "_view_name": "StyleView",
            "bar_color": null,
            "description_width": ""
          }
        },
        "24e36db366a5462fb89ce435f0c81662": {
          "model_module": "@jupyter-widgets/base",
          "model_name": "LayoutModel",
          "model_module_version": "1.2.0",
          "state": {
            "_model_module": "@jupyter-widgets/base",
            "_model_module_version": "1.2.0",
            "_model_name": "LayoutModel",
            "_view_count": null,
            "_view_module": "@jupyter-widgets/base",
            "_view_module_version": "1.2.0",
            "_view_name": "LayoutView",
            "align_content": null,
            "align_items": null,
            "align_self": null,
            "border": null,
            "bottom": null,
            "display": null,
            "flex": null,
            "flex_flow": null,
            "grid_area": null,
            "grid_auto_columns": null,
            "grid_auto_flow": null,
            "grid_auto_rows": null,
            "grid_column": null,
            "grid_gap": null,
            "grid_row": null,
            "grid_template_areas": null,
            "grid_template_columns": null,
            "grid_template_rows": null,
            "height": null,
            "justify_content": null,
            "justify_items": null,
            "left": null,
            "margin": null,
            "max_height": null,
            "max_width": null,
            "min_height": null,
            "min_width": null,
            "object_fit": null,
            "object_position": null,
            "order": null,
            "overflow": null,
            "overflow_x": null,
            "overflow_y": null,
            "padding": null,
            "right": null,
            "top": null,
            "visibility": null,
            "width": null
          }
        },
        "3f2998f91dd5476cb94b9f122f335151": {
          "model_module": "@jupyter-widgets/controls",
          "model_name": "DescriptionStyleModel",
          "model_module_version": "1.5.0",
          "state": {
            "_model_module": "@jupyter-widgets/controls",
            "_model_module_version": "1.5.0",
            "_model_name": "DescriptionStyleModel",
            "_view_count": null,
            "_view_module": "@jupyter-widgets/base",
            "_view_module_version": "1.2.0",
            "_view_name": "StyleView",
            "description_width": ""
          }
        }
      }
    }
  },
  "nbformat": 4,
  "nbformat_minor": 0
}